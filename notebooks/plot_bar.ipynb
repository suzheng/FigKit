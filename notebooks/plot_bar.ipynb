{
 "cells": [
  {
   "cell_type": "code",
   "execution_count": 39,
   "metadata": {},
   "outputs": [],
   "source": [
    "import sys\n",
    "import os\n",
    "\n",
    "# Get the absolute path to the src directory\n",
    "src_path = os.path.abspath(os.path.join('..', 'src'))\n",
    "if src_path not in sys.path:\n",
    "    sys.path.append(src_path)\n",
    "\n",
    "\n",
    "import numpy as np\n",
    "import pandas as pd\n",
    "import seaborn as sns\n",
    "import matplotlib.pyplot as plt\n",
    "from utils.figure_style import FigureStyle\n",
    "from utils.json_data_reader import JSONDataReader\n",
    "\n",
    "\n"
   ]
  },
  {
   "cell_type": "code",
   "execution_count": 40,
   "metadata": {},
   "outputs": [],
   "source": [
    "# Access constants from JSON\n",
    "json_reader = JSONDataReader('../data/config.json')\n",
    "sample_names = json_reader.get('sample_names')\n",
    "group_names = json_reader.get('group_names')\n",
    "sample_colors = json_reader.get('sample_colors')\n",
    "colors = json_reader.get('colors')\n",
    "fig_dims = json_reader.get('figure_dimensions')\n",
    "one_third_fig_width = fig_dims.get('one_third_fig_width')\n",
    "half_fig_width = fig_dims.get('half_fig_width')\n",
    "full_fig_width = fig_dims.get('full_fig_width')\n",
    "fig_height_a0 = fig_dims.get('fig_height_a0')\n",
    "fig_height_a = fig_dims.get('fig_height_a')\n",
    "fig_height_b = fig_dims.get('fig_height_b')\n"
   ]
  },
  {
   "cell_type": "code",
   "execution_count": 41,
   "metadata": {},
   "outputs": [
    {
     "name": "stderr",
     "output_type": "stream",
     "text": [
      "1 extra bytes in post.stringData array\n",
      "'created' timestamp seems very low; regarding as unix timestamp\n",
      "Zapf NOT subset; don't know how to subset; dropped\n",
      "feat NOT subset; don't know how to subset; dropped\n",
      "meta NOT subset; don't know how to subset; dropped\n",
      "morx NOT subset; don't know how to subset; dropped\n"
     ]
    },
    {
     "data": {
      "image/png": "[encoded data removed]",
      "text/plain": [
       "<Figure size 230x280 with 1 Axes>"
      ]
     },
     "metadata": {},
     "output_type": "display_data"
    }
   ],
   "source": [
    "\n",
    "# Generate mockup data\n",
    "np.random.seed(0)\n",
    "data = {\n",
    "    'Sample': np.repeat(sample_names, 10),\n",
    "    'Value': np.random.randn(30) + np.tile([1, 2, 3], 10)\n",
    "}\n",
    "df = pd.DataFrame(data)\n",
    "\n",
    "# Calculate means\n",
    "means = df.groupby('Sample')['Value'].mean().reset_index()\n",
    "\n",
    "# Create an instance of FigureStyle with custom colors\n",
    "style_config = FigureStyle(colors=sample_colors)\n",
    "style_config.apply()\n",
    "\n",
    "# Create a bar plot\n",
    "fig, ax = plt.subplots(figsize=(one_third_fig_width, fig_height_a))\n",
    "sns.barplot(x='Sample', y='Value', data=means, palette=sample_colors, ax=ax)\n",
    "\n",
    "# Customize the plot\n",
    "style_config.set_titles(ax, 'Bar Plot 1')\n",
    "style_config.set_labels(ax, 'Sample', 'Mean Value')\n",
    "\n",
    "# Save the figure\n",
    "style_config.save_figure('../figures/bar_plot1.pdf')\n",
    "\n",
    "# Show the plot (optional)\n",
    "plt.show()"
   ]
  },
  {
   "cell_type": "code",
   "execution_count": 42,
   "metadata": {},
   "outputs": [
    {
     "name": "stderr",
     "output_type": "stream",
     "text": [
      "1 extra bytes in post.stringData array\n",
      "'created' timestamp seems very low; regarding as unix timestamp\n",
      "Zapf NOT subset; don't know how to subset; dropped\n",
      "feat NOT subset; don't know how to subset; dropped\n",
      "meta NOT subset; don't know how to subset; dropped\n",
      "morx NOT subset; don't know how to subset; dropped\n"
     ]
    },
    {
     "data": {
      "image/png": "[encoded data removed]",
      "text/plain": [
       "<Figure size 230x280 with 1 Axes>"
      ]
     },
     "metadata": {},
     "output_type": "display_data"
    }
   ],
   "source": [
    "# Similar setup as plot_bar1.py\n",
    "\n",
    "# Generate different mockup data\n",
    "np.random.seed(1)\n",
    "data = {\n",
    "    'Sample': np.repeat(sample_names, 15),\n",
    "    'Value': np.random.randn(45) + np.tile([1.5, 2.5, 3.5], 15)\n",
    "}\n",
    "df = pd.DataFrame(data)\n",
    "\n",
    "# Calculate means\n",
    "means = df.groupby('Sample')['Value'].mean().reset_index()\n",
    "\n",
    "# Create the plot\n",
    "fig, ax = plt.subplots(figsize=(one_third_fig_width, fig_height_a))\n",
    "sns.barplot(x='Sample', y='Value', data=means, palette=sample_colors, ax=ax)\n",
    "\n",
    "# Customize the plot\n",
    "style_config.set_titles(ax, 'Bar Plot 2')\n",
    "style_config.set_labels(ax, 'Sample', 'Mean Value')\n",
    "\n",
    "# Save the figure\n",
    "style_config.save_figure('../figures/bar_plot2.pdf')\n"
   ]
  },
  {
   "cell_type": "code",
   "execution_count": 43,
   "metadata": {},
   "outputs": [
    {
     "name": "stderr",
     "output_type": "stream",
     "text": [
      "1 extra bytes in post.stringData array\n",
      "'created' timestamp seems very low; regarding as unix timestamp\n",
      "Zapf NOT subset; don't know how to subset; dropped\n",
      "feat NOT subset; don't know how to subset; dropped\n",
      "meta NOT subset; don't know how to subset; dropped\n",
      "morx NOT subset; don't know how to subset; dropped\n"
     ]
    },
    {
     "data": {
      "image/png": "[encoded data removed]",
      "text/plain": [
       "<Figure size 230x280 with 1 Axes>"
      ]
     },
     "metadata": {},
     "output_type": "display_data"
    }
   ],
   "source": [
    "# Similar setup\n",
    "\n",
    "# Generate different mockup data\n",
    "np.random.seed(2)\n",
    "data = {\n",
    "    'Sample': np.repeat(sample_names, 20),\n",
    "    'Value': np.random.randn(60) + np.tile([2, 3, 4], 20)\n",
    "}\n",
    "df = pd.DataFrame(data)\n",
    "\n",
    "# Calculate means\n",
    "means = df.groupby('Sample')['Value'].mean().reset_index()\n",
    "\n",
    "# Create the plot\n",
    "fig, ax = plt.subplots(figsize=(one_third_fig_width, fig_height_a))\n",
    "sns.barplot(x='Sample', y='Value', data=means, palette=sample_colors, ax=ax)\n",
    "\n",
    "# Customize the plot\n",
    "style_config.set_titles(ax, 'Bar Plot 3')\n",
    "style_config.set_labels(ax, 'Sample', 'Mean Value')\n",
    "\n",
    "# Save the figure\n",
    "style_config.save_figure('../figures/bar_plot3.pdf')\n"
   ]
  },
  {
   "cell_type": "code",
   "execution_count": null,
   "metadata": {},
   "outputs": [],
   "source": []
  }
 ],
 "metadata": {
  "kernelspec": {
   "display_name": "Python 3 (ipykernel)",
   "language": "python",
   "name": "python3"
  },
  "language_info": {
   "codemirror_mode": {
    "name": "ipython",
    "version": 3
   },
   "file_extension": ".py",
   "mimetype": "text/x-python",
   "name": "python",
   "nbconvert_exporter": "python",
   "pygments_lexer": "ipython3",
   "version": "3.9.13"
  }
 },
 "nbformat": 4,
 "nbformat_minor": 4
}
