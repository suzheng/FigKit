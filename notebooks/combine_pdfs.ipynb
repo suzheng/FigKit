{
 "cells": [
  {
   "cell_type": "code",
   "execution_count": 13,
   "metadata": {},
   "outputs": [
    {
     "name": "stdout",
     "output_type": "stream",
     "text": [
      "Last modified at 2024-11-07 10:58:12.765562: '../figures/bar_plot1.pdf'\n",
      "Last modified at 2024-11-07 10:58:13.055106: '../figures/bar_plot2.pdf'\n",
      "Last modified at 2024-11-07 10:58:13.618473: '../figures/bar_plot3.pdf'\n",
      "Last modified at 2024-11-07 10:58:15.445587: '../figures/box_plot1.pdf'\n",
      "Last modified at 2024-11-07 10:58:15.950364: '../figures/box_plot2.pdf'\n",
      "Last modified at 2024-11-07 10:58:21.702469: '../figures/line_plot1.pdf'\n",
      "Last modified at 2024-11-07 10:58:22.235837: '../figures/line_plot2.pdf'\n",
      "Last modified at 2024-11-07 10:58:30.316782: '../figures/scatter_plot1.pdf'\n",
      "Last modified at 2024-11-07 10:58:30.861721: '../figures/scatter_plot2.pdf'\n",
      "Last modified at 2024-11-07 10:58:18.871729: '../figures/heatmap1.pdf'\n",
      "Last modified at 2024-11-07 10:58:19.608473: '../figures/heatmap2.pdf'\n",
      "Last modified at 2024-11-07 10:58:25.744650: '../figures/roc_curve1.pdf'\n",
      "Last modified at 2024-11-07 10:58:26.231034: '../figures/roc_curve2.pdf'\n"
     ]
    }
   ],
   "source": [
    "import sys\n",
    "import os\n",
    "\n",
    "# Get the absolute path to the src directory\n",
    "src_path = os.path.abspath(os.path.join('..', 'src'))\n",
    "if src_path not in sys.path:\n",
    "    sys.path.append(src_path)\n",
    "\n",
    "from utils.combine_pdfs import combine_pdf_figures\n",
    "from utils.json_data_reader import JSONDataReader\n",
    "\n",
    "# Figure Dimensions from config.json (if needed)\n",
    "json_reader = JSONDataReader('../data/config.json')\n",
    "fig_dims = json_reader.get('figure_dimensions')\n",
    "one_third_fig_width = fig_dims.get('one_third_fig_width')\n",
    "half_fig_width = fig_dims.get('half_fig_width')\n",
    "full_fig_width = fig_dims.get('full_fig_width')\n",
    "\n",
    "# **Combined Figure 1: Bar Plots and Box Plots**\n",
    "pdf_files = [\n",
    "    '../figures/bar_plot1.pdf',\n",
    "    '../figures/bar_plot2.pdf',\n",
    "    '../figures/bar_plot3.pdf',\n",
    "    '../figures/box_plot1.pdf',\n",
    "    '../figures/box_plot2.pdf'\n",
    "]\n",
    "labels = ['a', 'b', 'c', 'd', 'e', 'f', 'g', 'h', 'i', 'j', 'k']\n",
    "cols_per_row = [3, 2]  # First row: 3 bar plots, Second row: 2 box plots\n",
    "\n",
    "combine_pdf_figures(pdf_files, '../figures/combined_figure1.pdf', labels, cols_per_row)\n",
    "\n",
    "# **Combined Figure 2: Line Plots and Scatter Plots**\n",
    "pdf_files = [\n",
    "    '../figures/line_plot1.pdf',\n",
    "    '../figures/line_plot2.pdf',\n",
    "    '../figures/scatter_plot1.pdf',\n",
    "    '../figures/scatter_plot2.pdf'\n",
    "]\n",
    "cols_per_row = [2, 2]  # Each row has 2 plots of half_fig_width (3.5 inches)\n",
    "\n",
    "combine_pdf_figures(pdf_files, '../figures/combined_figure2.pdf', labels, cols_per_row)\n",
    "\n",
    "# **Combined Figure 3: Heatmaps and ROC Curves**\n",
    "pdf_files = [\n",
    "    '../figures/heatmap1.pdf',\n",
    "    '../figures/heatmap2.pdf',\n",
    "    '../figures/roc_curve1.pdf',\n",
    "    '../figures/roc_curve2.pdf'\n",
    "]\n",
    "cols_per_row = [1, 1, 2]  # First row: heatmap (full width), Second row: 2 ROC curves, Third row: heatmap\n",
    "\n",
    "combine_pdf_figures(pdf_files, '../figures/combined_figure3.pdf', labels, cols_per_row)\n"
   ]
  },
  {
   "cell_type": "code",
   "execution_count": null,
   "metadata": {},
   "outputs": [],
   "source": []
  }
 ],
 "metadata": {
  "kernelspec": {
   "display_name": "Python 3 (ipykernel)",
   "language": "python",
   "name": "python3"
  },
  "language_info": {
   "codemirror_mode": {
    "name": "ipython",
    "version": 3
   },
   "file_extension": ".py",
   "mimetype": "text/x-python",
   "name": "python",
   "nbconvert_exporter": "python",
   "pygments_lexer": "ipython3",
   "version": "3.10.14"
  }
 },
 "nbformat": 4,
 "nbformat_minor": 4
}
