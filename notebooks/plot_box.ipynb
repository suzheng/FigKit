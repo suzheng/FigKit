{
 "cells": [
  {
   "cell_type": "code",
   "execution_count": 13,
   "metadata": {},
   "outputs": [],
   "source": [
    "import sys\n",
    "import os\n",
    "\n",
    "# Get the absolute path to the src directory\n",
    "src_path = os.path.abspath(os.path.join('..', 'src'))\n",
    "if src_path not in sys.path:\n",
    "    sys.path.append(src_path)\n",
    "\n",
    "import numpy as np\n",
    "import pandas as pd\n",
    "import seaborn as sns\n",
    "import matplotlib.pyplot as plt\n",
    "from utils.figure_style import FigureStyle\n",
    "from utils.json_data_reader import JSONDataReader\n",
    "\n",
    "# Access constants from JSON\n",
    "json_reader = JSONDataReader('../data/config.json')\n",
    "sample_names = json_reader.get('sample_names')\n",
    "group_names = json_reader.get('group_names')\n",
    "sample_colors = json_reader.get('sample_colors')\n",
    "group_colors = json_reader.get('group_colors')\n",
    "fig_dims = json_reader.get('figure_dimensions')\n",
    "one_third_fig_width = fig_dims.get('one_third_fig_width')\n",
    "half_fig_width = fig_dims.get('half_fig_width')\n",
    "full_fig_width = fig_dims.get('full_fig_width')\n",
    "fig_height_a0 = fig_dims.get('fig_height_a0')\n",
    "fig_height_a = fig_dims.get('fig_height_a')\n",
    "fig_height_b = fig_dims.get('fig_height_b')\n"
   ]
  },
  {
   "cell_type": "code",
   "execution_count": 14,
   "metadata": {},
   "outputs": [
    {
     "name": "stderr",
     "output_type": "stream",
     "text": [
      "/var/folders/v2/tmx974dx4pl76jc0c72115l40000gn/T/ipykernel_29854/190829927.py:17: FutureWarning: \n",
      "\n",
      "Passing `palette` without assigning `hue` is deprecated and will be removed in v0.14.0. Assign the `x` variable to `hue` and set `legend=False` for the same effect.\n",
      "\n",
      "  sns.boxplot(x='Sample', y='Value', data=df, palette=sample_colors, ax=ax)\n",
      "1 extra bytes in post.stringData array\n",
      "'created' timestamp seems very low; regarding as unix timestamp\n",
      "Zapf NOT subset; don't know how to subset; dropped\n",
      "feat NOT subset; don't know how to subset; dropped\n",
      "morx NOT subset; don't know how to subset; dropped\n"
     ]
    },
    {
     "data": {
      "image/png": "[encoded data removed]",
      "text/plain": [
       "<Figure size 350x280 with 1 Axes>"
      ]
     },
     "metadata": {},
     "output_type": "display_data"
    }
   ],
   "source": [
    "# Common setup code here...\n",
    "\n",
    "# Generate mockup data\n",
    "np.random.seed(3)\n",
    "data = {\n",
    "    'Sample': np.repeat(sample_names, 10),\n",
    "    'Value': np.random.randn(30) + np.tile([2, 3, 4], 10)\n",
    "}\n",
    "df = pd.DataFrame(data)\n",
    "\n",
    "# Create an instance of FigureStyle with custom colors\n",
    "style_config = FigureStyle(colors=sample_colors)\n",
    "style_config.apply()\n",
    "\n",
    "# Create a box plot\n",
    "fig, ax = plt.subplots(figsize=(half_fig_width, fig_height_a))\n",
    "sns.boxplot(x='Sample', y='Value', data=df, palette=sample_colors, ax=ax)\n",
    "\n",
    "# Customize the plot\n",
    "style_config.set_titles(ax, 'Box Plot 1')\n",
    "style_config.set_labels(ax, 'Sample', 'Value')\n",
    "\n",
    "# Save the figure\n",
    "style_config.save_figure('../figures/box_plot1.pdf')\n",
    "\n",
    "# Show the plot (optional)\n",
    "plt.show()\n"
   ]
  },
  {
   "cell_type": "code",
   "execution_count": 15,
   "metadata": {},
   "outputs": [
    {
     "name": "stderr",
     "output_type": "stream",
     "text": [
      "/var/folders/v2/tmx974dx4pl76jc0c72115l40000gn/T/ipykernel_29854/1235772045.py:17: FutureWarning: \n",
      "\n",
      "Passing `palette` without assigning `hue` is deprecated and will be removed in v0.14.0. Assign the `x` variable to `hue` and set `legend=False` for the same effect.\n",
      "\n",
      "  sns.boxplot(x='Sample', y='Value', data=df, palette=sample_colors, ax=ax)\n",
      "1 extra bytes in post.stringData array\n",
      "'created' timestamp seems very low; regarding as unix timestamp\n",
      "Zapf NOT subset; don't know how to subset; dropped\n",
      "feat NOT subset; don't know how to subset; dropped\n",
      "morx NOT subset; don't know how to subset; dropped\n"
     ]
    },
    {
     "data": {
      "image/png": "[encoded data removed]",
      "text/plain": [
       "<Figure size 350x280 with 1 Axes>"
      ]
     },
     "metadata": {},
     "output_type": "display_data"
    }
   ],
   "source": [
    "# Common setup code here...\n",
    "\n",
    "# Generate different data\n",
    "np.random.seed(4)\n",
    "data = {\n",
    "    'Sample': np.repeat(sample_names, 12),\n",
    "    'Value': np.random.randn(36) + np.tile([1, 2, 3], 12)\n",
    "}\n",
    "df = pd.DataFrame(data)\n",
    "\n",
    "# Create an instance of FigureStyle with custom colors\n",
    "style_config = FigureStyle(colors=sample_colors)\n",
    "style_config.apply()\n",
    "\n",
    "# Create a box plot\n",
    "fig, ax = plt.subplots(figsize=(half_fig_width, fig_height_a))\n",
    "sns.boxplot(x='Sample', y='Value', data=df, palette=sample_colors, ax=ax)\n",
    "\n",
    "# Customize the plot\n",
    "style_config.set_titles(ax, 'Box Plot 2')\n",
    "style_config.set_labels(ax, 'Sample', 'Value')\n",
    "\n",
    "# Save the figure\n",
    "style_config.save_figure('../figures/box_plot2.pdf')\n",
    "\n",
    "# Show the plot (optional)\n",
    "plt.show()\n"
   ]
  },
  {
   "cell_type": "code",
   "execution_count": null,
   "metadata": {},
   "outputs": [],
   "source": []
  }
 ],
 "metadata": {
  "kernelspec": {
   "display_name": "Python 3 (ipykernel)",
   "language": "python",
   "name": "python3"
  },
  "language_info": {
   "codemirror_mode": {
    "name": "ipython",
    "version": 3
   },
   "file_extension": ".py",
   "mimetype": "text/x-python",
   "name": "python",
   "nbconvert_exporter": "python",
   "pygments_lexer": "ipython3",
   "version": "3.10.14"
  }
 },
 "nbformat": 4,
 "nbformat_minor": 4
}
